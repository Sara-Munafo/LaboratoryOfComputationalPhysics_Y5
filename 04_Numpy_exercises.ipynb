{
 "cells": [
  {
   "cell_type": "markdown",
   "metadata": {},
   "source": [
    "### Numpy basics"
   ]
  },
  {
   "cell_type": "markdown",
   "metadata": {},
   "source": [
    "1\\. Find the row, column and overall means for the following matrix:\n",
    "\n",
    "```python\n",
    "m = np.arange(12).reshape((3,4))\n",
    "```"
   ]
  },
  {
   "cell_type": "code",
   "execution_count": 1,
   "metadata": {},
   "outputs": [],
   "source": [
    "import numpy as np\n",
    "import math\n",
    "import matplotlib.pyplot as plt"
   ]
  },
  {
   "cell_type": "code",
   "execution_count": 3,
   "metadata": {},
   "outputs": [
    {
     "name": "stdout",
     "output_type": "stream",
     "text": [
      "[[ 0  1  2  3]\n",
      " [ 4  5  6  7]\n",
      " [ 8  9 10 11]]\n",
      "row mean: [1.5 5.5 9.5]\n",
      "column mean: [4. 5. 6. 7.]\n",
      "overall mean: 5.5\n"
     ]
    }
   ],
   "source": [
    "m = np.arange(12).reshape((3,4))\n",
    "print(m)\n",
    "print(\"row mean:\", np.mean(m, axis=1))\n",
    "print(\"column mean:\", np.mean(m, axis=0))\n",
    "print(\"overall mean:\", np.mean(m))\n"
   ]
  },
  {
   "cell_type": "markdown",
   "metadata": {},
   "source": [
    "2\\. Find the outer product of the following two vecotrs\n",
    "\n",
    "```python\n",
    "u = np.array([1,3,5,7])\n",
    "v = np.array([2,4,6,8])\n",
    "```\n",
    "\n",
    "Do this in the following ways:\n",
    "\n",
    "   * Using the function outer in numpy\n",
    "   * Using a nested for loop or list comprehension\n",
    "   * Using numpy broadcasting operatoins\n"
   ]
  },
  {
   "cell_type": "code",
   "execution_count": 4,
   "metadata": {},
   "outputs": [
    {
     "name": "stdout",
     "output_type": "stream",
     "text": [
      "outer function: \n",
      " [[ 2  4  6  8]\n",
      " [ 6 12 18 24]\n",
      " [10 20 30 40]\n",
      " [14 28 42 56]]\n",
      "for loop: \n",
      " [[ 2.  4.  6.  8.]\n",
      " [ 6. 12. 18. 24.]\n",
      " [10. 20. 30. 40.]\n",
      " [14. 28. 42. 56.]]\n",
      "broadcasting: \n",
      " [[ 2.  4.  6.  8.]\n",
      " [ 6. 12. 18. 24.]\n",
      " [10. 20. 30. 40.]\n",
      " [14. 28. 42. 56.]]\n"
     ]
    }
   ],
   "source": [
    "u = np.array([1,3,5,7])\n",
    "v = np.array([2,4,6,8])\n",
    "\n",
    "#1st method\n",
    "print(\"outer function: \\n\", np.outer(u,v))\n",
    "\n",
    "#2nd method\n",
    "z=np.zeros((u.shape[0], v.shape[0]))\n",
    "for i in range(u.shape[0]):\n",
    "    for j in range(v.shape[0]):\n",
    "        z[i,j]=int(np.dot(u[i],v[j]))\n",
    "print (\"for loop: \\n\", z)\n",
    "\n",
    "#3rd method\n",
    "w=np.zeros((u.shape[0], v.shape[0]))\n",
    "for i in range(u.shape[0]):\n",
    "    w[i]=u[i]*v\n",
    "print(\"broadcasting: \\n\", w)\n",
    "         \n",
    "    "
   ]
  },
  {
   "cell_type": "markdown",
   "metadata": {},
   "source": [
    "3\\. Create a 10 by 6 matrix of random uniform numbers. Set all rows with any entry less than 0.1 to be zero\n",
    "\n",
    "Hint: Use the following numpy functions - np.random.random, np.any as well as Boolean indexing and the axis argument."
   ]
  },
  {
   "cell_type": "code",
   "execution_count": 5,
   "metadata": {},
   "outputs": [
    {
     "name": "stdout",
     "output_type": "stream",
     "text": [
      "[[0.29165311 0.163402   0.5527658  0.71580419 0.76193224 0.03556328]\n",
      " [0.11477995 0.58713267 0.75088607 0.36805581 0.5710141  0.40757712]\n",
      " [0.8681411  0.48872596 0.11677164 0.52906285 0.24304012 0.97591844]\n",
      " [0.70100181 0.44668042 0.82240584 0.79903484 0.38296187 0.62847749]\n",
      " [0.33271236 0.07099611 0.52571486 0.01030664 0.68048628 0.18348241]\n",
      " [0.25050063 0.47147107 0.01620224 0.84632476 0.21578018 0.7547055 ]\n",
      " [0.3963978  0.27628267 0.37147271 0.20669194 0.25606235 0.45962686]\n",
      " [0.48035851 0.55268811 0.05015158 0.66068776 0.60577602 0.84303344]\n",
      " [0.74077845 0.31952206 0.203737   0.57597894 0.81625663 0.41089953]\n",
      " [0.8149824  0.48077228 0.97374819 0.22867221 0.55894983 0.53214978]]\n"
     ]
    }
   ],
   "source": [
    "r=np.random.random_sample((10,6))\n",
    "print(r)\n"
   ]
  },
  {
   "cell_type": "code",
   "execution_count": 6,
   "metadata": {},
   "outputs": [
    {
     "name": "stdout",
     "output_type": "stream",
     "text": [
      "[ True False False False  True  True False  True False False]\n"
     ]
    }
   ],
   "source": [
    "a=np.any(r<0.1, axis=1)\n",
    "print(a)"
   ]
  },
  {
   "cell_type": "code",
   "execution_count": 7,
   "metadata": {},
   "outputs": [
    {
     "name": "stdout",
     "output_type": "stream",
     "text": [
      "[[0.         0.         0.         0.         0.         0.        ]\n",
      " [0.11477995 0.58713267 0.75088607 0.36805581 0.5710141  0.40757712]\n",
      " [0.8681411  0.48872596 0.11677164 0.52906285 0.24304012 0.97591844]\n",
      " [0.70100181 0.44668042 0.82240584 0.79903484 0.38296187 0.62847749]\n",
      " [0.         0.         0.         0.         0.         0.        ]\n",
      " [0.         0.         0.         0.         0.         0.        ]\n",
      " [0.3963978  0.27628267 0.37147271 0.20669194 0.25606235 0.45962686]\n",
      " [0.         0.         0.         0.         0.         0.        ]\n",
      " [0.74077845 0.31952206 0.203737   0.57597894 0.81625663 0.41089953]\n",
      " [0.8149824  0.48077228 0.97374819 0.22867221 0.55894983 0.53214978]]\n"
     ]
    }
   ],
   "source": [
    "for i in range(a.shape[0]):\n",
    "    if a[i]==True:\n",
    "        r[i]=np.zeros((1,r.shape[1]))\n",
    "print (r)"
   ]
  },
  {
   "cell_type": "markdown",
   "metadata": {},
   "source": [
    "4\\. Use np.linspace to create an array of 100 numbers between 0 and 2π (includsive).\n",
    "\n",
    "  * Extract every 10th element using slice notation\n",
    "  * Reverse the array using slice notation\n",
    "  * Extract elements where the absolute difference between the sine and cosine functions evaluated at that element is less than 0.1\n",
    "  * Make a plot showing the sin and cos functions and indicate where they are close"
   ]
  },
  {
   "cell_type": "code",
   "execution_count": 32,
   "metadata": {},
   "outputs": [
    {
     "name": "stdout",
     "output_type": "stream",
     "text": [
      "[0.         0.06346652 0.12693304 0.19039955 0.25386607 0.31733259\n",
      " 0.38079911 0.44426563 0.50773215 0.57119866 0.63466518 0.6981317\n",
      " 0.76159822 0.82506474 0.88853126 0.95199777 1.01546429 1.07893081\n",
      " 1.14239733 1.20586385 1.26933037 1.33279688 1.3962634  1.45972992\n",
      " 1.52319644 1.58666296 1.65012947 1.71359599 1.77706251 1.84052903\n",
      " 1.90399555 1.96746207 2.03092858 2.0943951  2.15786162 2.22132814\n",
      " 2.28479466 2.34826118 2.41172769 2.47519421 2.53866073 2.60212725\n",
      " 2.66559377 2.72906028 2.7925268  2.85599332 2.91945984 2.98292636\n",
      " 3.04639288 3.10985939 3.17332591 3.23679243 3.30025895 3.36372547\n",
      " 3.42719199 3.4906585  3.55412502 3.61759154 3.68105806 3.74452458\n",
      " 3.8079911  3.87145761 3.93492413 3.99839065 4.06185717 4.12532369\n",
      " 4.1887902  4.25225672 4.31572324 4.37918976 4.44265628 4.5061228\n",
      " 4.56958931 4.63305583 4.69652235 4.75998887 4.82345539 4.88692191\n",
      " 4.95038842 5.01385494 5.07732146 5.14078798 5.2042545  5.26772102\n",
      " 5.33118753 5.39465405 5.45812057 5.52158709 5.58505361 5.64852012\n",
      " 5.71198664 5.77545316 5.83891968 5.9023862  5.96585272 6.02931923\n",
      " 6.09278575 6.15625227 6.21971879 6.28318531]\n",
      "[0.57119866 1.20586385 1.84052903 2.47519421 3.10985939 3.74452458\n",
      " 4.37918976 5.01385494 5.64852012 6.28318531]\n",
      "[6.28318531 6.21971879 6.15625227 6.09278575 6.02931923 5.96585272\n",
      " 5.9023862  5.83891968 5.77545316 5.71198664 5.64852012 5.58505361\n",
      " 5.52158709 5.45812057 5.39465405 5.33118753 5.26772102 5.2042545\n",
      " 5.14078798 5.07732146 5.01385494 4.95038842 4.88692191 4.82345539\n",
      " 4.75998887 4.69652235 4.63305583 4.56958931 4.5061228  4.44265628\n",
      " 4.37918976 4.31572324 4.25225672 4.1887902  4.12532369 4.06185717\n",
      " 3.99839065 3.93492413 3.87145761 3.8079911  3.74452458 3.68105806\n",
      " 3.61759154 3.55412502 3.4906585  3.42719199 3.36372547 3.30025895\n",
      " 3.23679243 3.17332591 3.10985939 3.04639288 2.98292636 2.91945984\n",
      " 2.85599332 2.7925268  2.72906028 2.66559377 2.60212725 2.53866073\n",
      " 2.47519421 2.41172769 2.34826118 2.28479466 2.22132814 2.15786162\n",
      " 2.0943951  2.03092858 1.96746207 1.90399555 1.84052903 1.77706251\n",
      " 1.71359599 1.65012947 1.58666296 1.52319644 1.45972992 1.3962634\n",
      " 1.33279688 1.26933037 1.20586385 1.14239733 1.07893081 1.01546429\n",
      " 0.95199777 0.88853126 0.82506474 0.76159822 0.6981317  0.63466518\n",
      " 0.57119866 0.50773215 0.44426563 0.38079911 0.31733259 0.25386607\n",
      " 0.19039955 0.12693304 0.06346652 0.        ]\n",
      "[0.76159822 0.82506474 3.87145761 3.93492413]\n"
     ]
    }
   ],
   "source": [
    "b=np.linspace(0,2*math.pi, num=100)\n",
    "b.shape\n",
    "print(b)\n",
    "\n",
    "#extracting every 10th element\n",
    "c = b[9::10]\n",
    "print(c)\n",
    "\n",
    "#reversing the array\n",
    "d = b[::-1]\n",
    "print(d)\n",
    "\n",
    "#elements where diff. bet. sine and cosine is less than 0.1\n",
    "e = b[np.abs(np.sin(b)-np.cos(b))<0.1]\n",
    "print(e)\n",
    "\n",
    "#plot\n",
    "fig, ax = #???\n",
    "\n"
   ]
  },
  {
   "cell_type": "markdown",
   "metadata": {},
   "source": [
    "5\\. Create a matrix that shows the 10 by 10 multiplication table.\n",
    "\n",
    " * Find the trace of the matrix\n",
    " * Extract the anto-diagonal (this should be ```array([10, 18, 24, 28, 30, 30, 28, 24, 18, 10])```)\n",
    " * Extract the diagnoal offset by 1 upwards (this should be ```array([ 2,  6, 12, 20, 30, 42, 56, 72, 90])```)"
   ]
  },
  {
   "cell_type": "code",
   "execution_count": 66,
   "metadata": {},
   "outputs": [
    {
     "name": "stdout",
     "output_type": "stream",
     "text": [
      "[[  1   2   3   4   5   6   7   8   9  10]\n",
      " [  2   4   6   8  10  12  14  16  18  20]\n",
      " [  3   6   9  12  15  18  21  24  27  30]\n",
      " [  4   8  12  16  20  24  28  32  36  40]\n",
      " [  5  10  15  20  25  30  35  40  45  50]\n",
      " [  6  12  18  24  30  36  42  48  54  60]\n",
      " [  7  14  21  28  35  42  49  56  63  70]\n",
      " [  8  16  24  32  40  48  56  64  72  80]\n",
      " [  9  18  27  36  45  54  63  72  81  90]\n",
      " [ 10  20  30  40  50  60  70  80  90 100]]\n",
      "385\n",
      "[10 18 24 28 30 30 28 24 18 10]\n",
      "[ 2  6 12 20 30 42 56 72 90]\n",
      "[[  1   2   0   0   0   0   0   0   0   0]\n",
      " [  2   4   6   0   0   0   0   0   0   0]\n",
      " [  3   6   9  12   0   0   0   0   0   0]\n",
      " [  4   8  12  16  20   0   0   0   0   0]\n",
      " [  5  10  15  20  25  30   0   0   0   0]\n",
      " [  6  12  18  24  30  36  42   0   0   0]\n",
      " [  7  14  21  28  35  42  49  56   0   0]\n",
      " [  8  16  24  32  40  48  56  64  72   0]\n",
      " [  9  18  27  36  45  54  63  72  81  90]\n",
      " [ 10  20  30  40  50  60  70  80  90 100]]\n"
     ]
    }
   ],
   "source": [
    "a1 = np.arange(1,11)\n",
    "mult = np.outer(a1,a1)   #outer non sbaglia mai\n",
    "print(mult)\n",
    "\n",
    "#Trace\n",
    "tr = np.trace(mult)\n",
    "print(tr)\n",
    "\n",
    "#Anti-diagonal\n",
    "ad = np.fliplr(mult).diagonal()   #fliplr turns the matrix around\n",
    "print(ad)\n",
    "\n",
    "#Diagonal offset by 1\n",
    "do = mult.diagonal(1)  #with diagonal\n",
    "print(do)\n",
    "\n",
    "do1 = np.tril(mult,+1) #with tril it eliminates everything above, doesnt give the diagonal!\n",
    "print(do1)"
   ]
  },
  {
   "cell_type": "markdown",
   "metadata": {},
   "source": [
    "6\\. Use broadcasting to create a grid of distances\n",
    "\n",
    "Route 66 crosses the following cities in the US: Chicago, Springfield, Saint-Louis, Tulsa, Oklahoma City, Amarillo, Santa Fe, Albuquerque, Flagstaff, Los Angeles\n",
    "The corresponding positions in miles are: 0, 198, 303, 736, 871, 1175, 1475, 1544, 1913, 2448\n",
    "\n",
    "  * Construct a 2D grid of distances among each city along Route 66\n",
    "  * Convert that in km (those savages...)"
   ]
  },
  {
   "cell_type": "code",
   "execution_count": 81,
   "metadata": {},
   "outputs": [
    {
     "name": "stdout",
     "output_type": "stream",
     "text": [
      "[[   0    0    0    0    0    0    0    0    0    0]\n",
      " [ 198  198  198  198  198  198  198  198  198  198]\n",
      " [ 303  303  303  303  303  303  303  303  303  303]\n",
      " [ 736  736  736  736  736  736  736  736  736  736]\n",
      " [ 871  871  871  871  871  871  871  871  871  871]\n",
      " [1175 1175 1175 1175 1175 1175 1175 1175 1175 1175]\n",
      " [1475 1475 1475 1475 1475 1475 1475 1475 1475 1475]\n",
      " [1544 1544 1544 1544 1544 1544 1544 1544 1544 1544]\n",
      " [1913 1913 1913 1913 1913 1913 1913 1913 1913 1913]\n",
      " [2448 2448 2448 2448 2448 2448 2448 2448 2448 2448]] \n",
      "\n",
      "broadcasted list: \n",
      " [[   0  198  303  736  871 1175 1475 1544 1913 2448]\n",
      " [ 198    0  105  538  673  977 1277 1346 1715 2250]\n",
      " [ 303  105    0  433  568  872 1172 1241 1610 2145]\n",
      " [ 736  538  433    0  135  439  739  808 1177 1712]\n",
      " [ 871  673  568  135    0  304  604  673 1042 1577]\n",
      " [1175  977  872  439  304    0  300  369  738 1273]\n",
      " [1475 1277 1172  739  604  300    0   69  438  973]\n",
      " [1544 1346 1241  808  673  369   69    0  369  904]\n",
      " [1913 1715 1610 1177 1042  738  438  369    0  535]\n",
      " [2448 2250 2145 1712 1577 1273  973  904  535    0]] \n",
      "\n",
      "in km: \n",
      " [[   0.   316.8  484.8 1177.6 1393.6 1880.  2360.  2470.4 3060.8 3916.8]\n",
      " [ 316.8    0.   168.   860.8 1076.8 1563.2 2043.2 2153.6 2744.  3600. ]\n",
      " [ 484.8  168.     0.   692.8  908.8 1395.2 1875.2 1985.6 2576.  3432. ]\n",
      " [1177.6  860.8  692.8    0.   216.   702.4 1182.4 1292.8 1883.2 2739.2]\n",
      " [1393.6 1076.8  908.8  216.     0.   486.4  966.4 1076.8 1667.2 2523.2]\n",
      " [1880.  1563.2 1395.2  702.4  486.4    0.   480.   590.4 1180.8 2036.8]\n",
      " [2360.  2043.2 1875.2 1182.4  966.4  480.     0.   110.4  700.8 1556.8]\n",
      " [2470.4 2153.6 1985.6 1292.8 1076.8  590.4  110.4    0.   590.4 1446.4]\n",
      " [3060.8 2744.  2576.  1883.2 1667.2 1180.8  700.8  590.4    0.   856. ]\n",
      " [3916.8 3600.  3432.  2739.2 2523.2 2036.8 1556.8 1446.4  856.     0. ]]\n"
     ]
    }
   ],
   "source": [
    "dist = np.tile([0, 198, 303, 736, 871, 1175, 1475, 1544, 1913, 2448], (10,1)).T\n",
    "print(dist, '\\n')\n",
    "print(\"broadcasted list:\", '\\n', np.abs(dist-dist.T), '\\n')\n",
    "\n",
    "#km conversion\n",
    "print(\"in km:\",'\\n', np.abs(dist-dist.T)*1.60 )"
   ]
  },
  {
   "cell_type": "markdown",
   "metadata": {},
   "source": [
    "7\\. Prime numbers sieve: compute the prime numbers in the 0-N (N=99 to start with) range with a sieve (mask).\n",
    "  * Constract a shape (100,) boolean array, the mask\n",
    "  * Identify the multiples of each number starting from 2 and set accordingly the corresponding mask element\n",
    "  * Apply the mask to obtain an array of ordered prime numbers\n",
    "  * Check the performances (timeit); how does it scale with N?\n",
    "  * Implement the optimization suggested in the [sieve of Eratosthenes](https://en.wikipedia.org/wiki/Sieve_of_Eratosthenes)"
   ]
  },
  {
   "cell_type": "code",
   "execution_count": 17,
   "metadata": {},
   "outputs": [
    {
     "name": "stdout",
     "output_type": "stream",
     "text": [
      "[ 0  1  2  3  5  7 11 13 17 19 23 29 31 37 41 43 47 53 59 61 67 71 73 79\n",
      " 83 89 97]\n"
     ]
    }
   ],
   "source": [
    "a = np.arange(100)\n",
    "\n",
    "mask = np.full(100,True) #full: array of booleans\n",
    "for i in range(2,100):\n",
    "    for j in range(i+1,100):\n",
    "        if a[j]%i==0:\n",
    "            mask[j]=False\n",
    "                \n",
    "prime_a = a[mask]\n",
    "print(prime_a)\n",
    "\n",
    "\n"
   ]
  },
  {
   "cell_type": "markdown",
   "metadata": {},
   "source": [
    "**N.B. the following exercises are meant to be solved only if you are familiar with the numpy random library. If not you can skip them (postponed for one of the next exercise sessions)**\n"
   ]
  },
  {
   "cell_type": "markdown",
   "metadata": {},
   "source": [
    "8\\. Diffusion using random walk\n",
    "\n",
    "Consider a simple random walk process: at each step in time, a walker jumps right or left (+1 or -1) with equal probability. The goal is to find the typical distance from the origin of a random walker after a given amount of time. \n",
    "To do that, let's simulate many walkers and create a 2D array with each walker as a raw and the actual time evolution as columns\n",
    "\n",
    "  * Take 1000 walkers and let them walk for 200 steps\n",
    "  * Use randint to create a 2D array of size walkers x steps with values -1 or 1\n",
    "  * Build the actual walking distances for each walker (i.e. another 2D array \"summing on each raw\")\n",
    "  * Take the square of that 2D array (elementwise)\n",
    "  * Compute the mean of the squared distances at each step (i.e. the mean along the columns)\n",
    "  * Plot the average distances (sqrt(distance\\*\\*2)) as a function of time (step)\n",
    "  \n",
    "Did you get what you expected?"
   ]
  },
  {
   "cell_type": "code",
   "execution_count": 61,
   "metadata": {},
   "outputs": [
    {
     "name": "stdout",
     "output_type": "stream",
     "text": [
      "[[-1  1  1 ...  1  1 -1]\n",
      " [-1 -1 -1 ... -1 -1 -1]\n",
      " [ 1 -1 -1 ...  1 -1  1]\n",
      " ...\n",
      " [ 1  1 -1 ... -1  1  1]\n",
      " [-1  1 -1 ...  1 -1 -1]\n",
      " [-1 -1  1 ...  1  1 -1]]\n"
     ]
    },
    {
     "data": {
      "text/plain": [
       "[<matplotlib.lines.Line2D at 0x7f0f0f2cf580>]"
      ]
     },
     "execution_count": 61,
     "metadata": {},
     "output_type": "execute_result"
    },
    {
     "data": {
      "image/png": "[encoded data removed]",
      "text/plain": [
       "<Figure size 432x288 with 1 Axes>"
      ]
     },
     "metadata": {
      "needs_background": "light"
     },
     "output_type": "display_data"
    }
   ],
   "source": [
    "import numpy.random as npr\n",
    "npr.seed(12345)\n",
    "\n",
    "n = 200    #number of steps\n",
    "w = 1000\n",
    "rand_walk = npr.randint(-1,1,(w,n))      #randint chooses values that RANGE between -1 and 1                                        \n",
    "                                          #the best choice would be npr.choice([-1,1])\n",
    "mask = (rand_walk==0)                     #since we used randint, subsitute all zeroes with 1 (so we have -1 and 1s)\n",
    "rand_walk[mask] = 1\n",
    "print(rand_walk)\n",
    "\n",
    "dist = np.zeros((w,n))\n",
    "for i in range(n):\n",
    "    walk_subset = rand_walk[:,0:i+1]\n",
    "    dist[:,i]=walk_subset.sum(axis=1)\n",
    "\n",
    "squared = dist**2\n",
    "\n",
    "mean = squared.mean(axis=0)\n",
    "\n",
    "average_dist = mean**(0.5)\n",
    "fig, ax = plt.subplots()\n",
    "ax.plot(range(n),average_dist)  #as expected sqrt(<d^2>) \\sim sqrt(n)\n"
   ]
  },
  {
   "cell_type": "markdown",
   "metadata": {},
   "source": [
    "## 9\\. Analyze a data file \n",
    "  * Download the population of hares, lynxes and carrots at the beginning of the last century.\n",
    "    ```python\n",
    "    ! wget https://www.dropbox.com/s/3vigxoqayo389uc/populations.txt\n",
    "    ```\n",
    "\n",
    "  * Check the content by looking within the file\n",
    "  * Load the data (use an appropriate numpy method) into a 2D array\n",
    "  * Create arrays out of the columns, the arrays being (in order): *year*, *hares*, *lynxes*, *carrots* \n",
    "  * Plot the 3 populations over the years\n",
    "  * Compute the main statistical properties of the dataset (mean, std, correlations, etc.)\n",
    "  * Which species has the highest population each year?\n",
    "\n",
    "Do you feel there is some evident correlation here? [Studies](https://www.enr.gov.nt.ca/en/services/lynx/lynx-snowshoe-hare-cycle) tend to believe so."
   ]
  },
  {
   "cell_type": "code",
   "execution_count": 151,
   "metadata": {},
   "outputs": [
    {
     "name": "stdout",
     "output_type": "stream",
     "text": [
      "--2022-12-23 16:55:02--  https://www.dropbox.com/s/3vigxoqayo389uc/populations.txt\n",
      "Risoluzione di www.dropbox.com (www.dropbox.com)... 162.125.69.18, 2620:100:6025:18::a27d:4512\n",
      "Connessione a www.dropbox.com (www.dropbox.com)|162.125.69.18|:443... connesso.\n",
      "Richiesta HTTP inviata, in attesa di risposta... 302 Found\n",
      "Posizione: /s/raw/3vigxoqayo389uc/populations.txt [segue]\n",
      "--2022-12-23 16:55:03--  https://www.dropbox.com/s/raw/3vigxoqayo389uc/populations.txt\n",
      "Riutilizzo della connessione esistente a www.dropbox.com:443.\n",
      "Richiesta HTTP inviata, in attesa di risposta... 302 Found\n",
      "Posizione: https://uce81625e612ae279d076e2599a7.dl.dropboxusercontent.com/cd/0/inline/BzKzkWL3OEb78xI-CZXXnK99afugpGSgd3FldcFQs90HhcdzUVKLQzDAXNcjFfKVUocgtn9_v0zJ09THCqdlx0D8VB_-kn56xbAgQRbn_oVqObB8uVf7kvW4kocJ0Wi_f5R0Hz15wQMhFe0hhOpE7yITJxxV8tgyzMkXmPeMEgPz1A/file# [segue]\n",
      "--2022-12-23 16:55:03--  https://uce81625e612ae279d076e2599a7.dl.dropboxusercontent.com/cd/0/inline/BzKzkWL3OEb78xI-CZXXnK99afugpGSgd3FldcFQs90HhcdzUVKLQzDAXNcjFfKVUocgtn9_v0zJ09THCqdlx0D8VB_-kn56xbAgQRbn_oVqObB8uVf7kvW4kocJ0Wi_f5R0Hz15wQMhFe0hhOpE7yITJxxV8tgyzMkXmPeMEgPz1A/file\n",
      "Risoluzione di uce81625e612ae279d076e2599a7.dl.dropboxusercontent.com (uce81625e612ae279d076e2599a7.dl.dropboxusercontent.com)... 162.125.69.15, 2620:100:6025:15::a27d:450f\n",
      "Connessione a uce81625e612ae279d076e2599a7.dl.dropboxusercontent.com (uce81625e612ae279d076e2599a7.dl.dropboxusercontent.com)|162.125.69.15|:443... connesso.\n",
      "Richiesta HTTP inviata, in attesa di risposta... 200 OK\n",
      "Lunghezza: 525 [text/plain]\n",
      "Salvataggio in: «populations.txt.1»\n",
      "\n",
      "populations.txt.1   100%[===================>]     525  --.-KB/s    in 0s      \n",
      "\n",
      "2022-12-23 16:55:04 (24,4 MB/s) - «populations.txt.1» salvato [525/525]\n",
      "\n"
     ]
    }
   ],
   "source": [
    "! wget https://www.dropbox.com/s/3vigxoqayo389uc/populations.txt"
   ]
  },
  {
   "cell_type": "code",
   "execution_count": 2,
   "metadata": {},
   "outputs": [
    {
     "name": "stdout",
     "output_type": "stream",
     "text": [
      "[[ 1900. 30000.  4000. 48300.]\n",
      " [ 1901. 47200.  6100. 48200.]\n",
      " [ 1902. 70200.  9800. 41500.]\n",
      " [ 1903. 77400. 35200. 38200.]\n",
      " [ 1904. 36300. 59400. 40600.]\n",
      " [ 1905. 20600. 41700. 39800.]\n",
      " [ 1906. 18100. 19000. 38600.]\n",
      " [ 1907. 21400. 13000. 42300.]\n",
      " [ 1908. 22000.  8300. 44500.]\n",
      " [ 1909. 25400.  9100. 42100.]\n",
      " [ 1910. 27100.  7400. 46000.]\n",
      " [ 1911. 40300.  8000. 46800.]\n",
      " [ 1912. 57000. 12300. 43800.]\n",
      " [ 1913. 76600. 19500. 40900.]\n",
      " [ 1914. 52300. 45700. 39400.]\n",
      " [ 1915. 19500. 51100. 39000.]\n",
      " [ 1916. 11200. 29700. 36700.]\n",
      " [ 1917.  7600. 15800. 41800.]\n",
      " [ 1918. 14600.  9700. 43300.]\n",
      " [ 1919. 16200. 10100. 41300.]\n",
      " [ 1920. 24700.  8600. 47300.]]\n"
     ]
    },
    {
     "data": {
      "text/plain": [
       "<matplotlib.legend.Legend at 0x7fcc0f7101c0>"
      ]
     },
     "execution_count": 2,
     "metadata": {},
     "output_type": "execute_result"
    },
    {
     "data": {
      "image/png": "[encoded data removed]",
      "text/plain": [
       "<Figure size 432x288 with 1 Axes>"
      ]
     },
     "metadata": {
      "needs_background": "light"
     },
     "output_type": "display_data"
    }
   ],
   "source": [
    "data = []\n",
    "\n",
    "with open(\"populations.txt\") as f:\n",
    "    next(f)\n",
    "    for line in f:\n",
    "        point = line.split()\n",
    "        x = int(point[0])\n",
    "        y = float(point[1])\n",
    "        z = float(point[2])\n",
    "        w = float(point[3])\n",
    "        data_point = [x,y,z,w]\n",
    "        data.append(data_point)\n",
    "data = np.array(data)\n",
    "print(data)\n",
    "\n",
    "years = data[:,:1]\n",
    "\n",
    "hares = data[0:,1:2]\n",
    "\n",
    "lynxes = data[0:,2:3]\n",
    "\n",
    "carrots = data[0:,3:4]\n",
    "\n",
    "fig, ax = plt.subplots()\n",
    "ax.plot(years,hares,color=\"b\", label=\"Hares\")\n",
    "ax.plot(years,lynxes,color=\"r\", label=\"Lynxes\")\n",
    "ax.plot(years,carrots,color=\"g\",label=\"Carrots\")\n",
    "ax.legend(loc='upper left')\n",
    "    \n",
    "    "
   ]
  },
  {
   "cell_type": "code",
   "execution_count": null,
   "metadata": {},
   "outputs": [],
   "source": []
  }
 ],
 "metadata": {
  "kernelspec": {
   "display_name": "Python 3 (ipykernel)",
   "language": "python",
   "name": "python3"
  },
  "language_info": {
   "codemirror_mode": {
    "name": "ipython",
    "version": 3
   },
   "file_extension": ".py",
   "mimetype": "text/x-python",
   "name": "python",
   "nbconvert_exporter": "python",
   "pygments_lexer": "ipython3",
   "version": "3.9.12"
  }
 },
 "nbformat": 4,
 "nbformat_minor": 2
}
