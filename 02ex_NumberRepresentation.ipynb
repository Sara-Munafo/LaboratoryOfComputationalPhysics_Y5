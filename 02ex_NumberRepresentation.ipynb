{
 "cells": [
  {
   "cell_type": "markdown",
   "metadata": {},
   "source": [
    "1\\. Write a function that converts number representation, bin<->dec<->hex. (Clearly using the corresponding python built-in functions is not fair..)"
   ]
  },
  {
   "cell_type": "code",
   "execution_count": 52,
   "metadata": {},
   "outputs": [
    {
     "name": "stdout",
     "output_type": "stream",
     "text": [
      "enter a number: 0b10001010000111101\n",
      "70717\n"
     ]
    }
   ],
   "source": [
    "#convert to decimal\n",
    "\n",
    "def decim_converter(num):\n",
    "    num_str=str(num)\n",
    "    dec=0\n",
    "    if num_str[1]=='b' :                                                #il numero è binario\n",
    "        for i,j in zip(range(2,len(num_str)), range(3,len(num_str)+1)):\n",
    "            dec+=pow(2,len(num_str)-j)*int(num_str[i])\n",
    "            \n",
    "    if num_str[1]=='x' :                                                #il numero è esadecimale\n",
    "        for i,j in zip(range(2,len(num_str)), range(3,len(num_str)+1)):\n",
    "            if num_str[i]=='A':\n",
    "                a=10\n",
    "            elif num_str[i]=='B':\n",
    "                a=11\n",
    "            elif num_str[i]=='C':\n",
    "                a=12\n",
    "            elif num_str[i]=='D':\n",
    "                a=13\n",
    "            elif num_str[i]=='E':\n",
    "                a=14\n",
    "            elif num_str[i]=='F':\n",
    "                a=15\n",
    "            else:\n",
    "                a=int(num_str[i])\n",
    "            dec+=pow(16,len(num_str)-j)*(a)        \n",
    "        \n",
    "    return dec\n",
    "                \n",
    "num = input('enter a number: ')\n",
    "print(decim_converter(num))\n",
    "\n"
   ]
  },
  {
   "cell_type": "code",
   "execution_count": 15,
   "metadata": {},
   "outputs": [
    {
     "name": "stdout",
     "output_type": "stream",
     "text": [
      "1 1 1\n"
     ]
    }
   ],
   "source": [
    "#convert decimal to binary\n",
    "\n",
    "def binary_converter(num):\n",
    "    binary=[]\n",
    "    while num!=0:\n",
    "        a=num%2\n",
    "        num=int(num/2)\n",
    "        binary.append(a)\n",
    "    binary.reverse() \n",
    "    print(' '.join(map(str, binary)))\n",
    "    return \n",
    "\n",
    "binary_converter(7)\n"
   ]
  },
  {
   "cell_type": "code",
   "execution_count": 20,
   "metadata": {},
   "outputs": [
    {
     "name": "stdout",
     "output_type": "stream",
     "text": [
      "5 B C\n"
     ]
    }
   ],
   "source": [
    "#convert decimal to hexadecimal \n",
    "\n",
    "def hexa_converter(num):\n",
    "    hexa=[]\n",
    "    while num!=0:\n",
    "        b=num%16\n",
    "        num=int(num/16)\n",
    "        if b==10:\n",
    "            b='A'\n",
    "        elif b==11:\n",
    "            b='B'\n",
    "        elif b==12:\n",
    "            b='C'\n",
    "        elif b==13:\n",
    "            b='D'\n",
    "        elif b==14:\n",
    "            b='E'\n",
    "        elif b==15:\n",
    "            b='F'\n",
    "        else:\n",
    "            b=b\n",
    "        hexa.append(b)\n",
    "    hexa.reverse()\n",
    "    print(' '.join(map(str, hexa)))\n",
    "    return\n",
    "        \n",
    "hexa_converter(1468)"
   ]
  },
  {
   "cell_type": "markdown",
   "metadata": {},
   "source": [
    "2\\. Write a function that converts a 32 bit word into a single precision floating point (i.e. interprets the various bits as sign, mantissa and exponent)"
   ]
  },
  {
   "cell_type": "code",
   "execution_count": 23,
   "metadata": {},
   "outputs": [
    {
     "name": "stdout",
     "output_type": "stream",
     "text": [
      "+\n",
      "7\n",
      "0.75\n",
      "+ 1.75 x 7.667648073722049e-53\n"
     ]
    }
   ],
   "source": [
    "import math\n",
    "def float_converter(num):\n",
    "    sign = num & 0b10000000000000000000000000000000\n",
    "    if sign==0:\n",
    "        sign = '+'\n",
    "    if sign==1:\n",
    "        sign = '-'\n",
    "    print(sign)\n",
    "    \n",
    "    exp = num & 0b01111111100000000000000000000000\n",
    "    exp= exp >> 23\n",
    "    print(exp)\n",
    "    \n",
    "    mantissa = num & 0b00000000011111111111111111111111\n",
    "    mant_bin=bin(mantissa)\n",
    "    mant_vera=0\n",
    "    for i,j in zip(mant_bin[2:],range(22)):\n",
    "        if i=='1':\n",
    "            mant_vera+=pow(2,-(j+1))                      #nella mant. ogni 1 va moltiplicato per 2 alla -(posizione) e poi si sommano\n",
    "    print(mant_vera)\n",
    "    print(sign, mant_vera+1, \"x\", pow(math.e,exp-127))\n",
    "    return\n",
    "    \n",
    "float_converter(0b00000011111000000000000000000000)"
   ]
  },
  {
   "cell_type": "markdown",
   "metadata": {},
   "source": [
    "3\\. Write a program to determine the underflow and overflow limits (within a factor of 2) for python on your computer. \n",
    "\n",
    "**Tips**: define two variables inizialized to 1 and halve/double them enough time to exceed the under/over-flow limits  "
   ]
  },
  {
   "cell_type": "code",
   "execution_count": 38,
   "metadata": {},
   "outputs": [
    {
     "name": "stdout",
     "output_type": "stream",
     "text": [
      "sys.float_info(max=1.7976931348623157e+308, max_exp=1024, max_10_exp=308, min=2.2250738585072014e-308, min_exp=-1021, min_10_exp=-307, dig=15, mant_dig=53, epsilon=2.220446049250313e-16, radix=2, rounds=1)\n"
     ]
    }
   ],
   "source": [
    "import sys\n",
    "print(sys.float_info)"
   ]
  },
  {
   "cell_type": "code",
   "execution_count": 39,
   "metadata": {},
   "outputs": [
    {
     "data": {
      "text/plain": [
       "inf"
      ]
     },
     "execution_count": 39,
     "metadata": {},
     "output_type": "execute_result"
    }
   ],
   "source": [
    "sys.float_info.max + sys.float_info.max"
   ]
  },
  {
   "cell_type": "code",
   "execution_count": 10,
   "metadata": {},
   "outputs": [
    {
     "name": "stdout",
     "output_type": "stream",
     "text": [
      "underflow (whithin factor 2): 5e-324\n",
      "2\n"
     ]
    },
    {
     "ename": "KeyboardInterrupt",
     "evalue": "",
     "output_type": "error",
     "traceback": [
      "\u001b[0;31m---------------------------------------------------------------------------\u001b[0m",
      "\u001b[0;31mKeyboardInterrupt\u001b[0m                         Traceback (most recent call last)",
      "Input \u001b[0;32mIn [10]\u001b[0m, in \u001b[0;36m<cell line: 13>\u001b[0;34m()\u001b[0m\n\u001b[1;32m     11\u001b[0m \u001b[38;5;28mprint\u001b[39m(b_mul)\n\u001b[1;32m     12\u001b[0m j\u001b[38;5;241m=\u001b[39m\u001b[38;5;241m0\u001b[39m\n\u001b[0;32m---> 13\u001b[0m \u001b[38;5;28;01mwhile\u001b[39;00m \u001b[38;5;28;43mstr\u001b[39;49m\u001b[43m(\u001b[49m\u001b[43mb_mul\u001b[49m\u001b[43m)\u001b[49m\u001b[38;5;241m!=\u001b[39m\u001b[38;5;124m'\u001b[39m\u001b[38;5;124minf\u001b[39m\u001b[38;5;124m'\u001b[39m:      \u001b[38;5;66;03m#for overflow it assigns 'inf'\u001b[39;00m\n\u001b[1;32m     14\u001b[0m     j\u001b[38;5;241m+\u001b[39m\u001b[38;5;241m=\u001b[39m\u001b[38;5;241m1\u001b[39m\n\u001b[1;32m     15\u001b[0m     b_mul\u001b[38;5;241m=\u001b[39mb_mul\u001b[38;5;241m*\u001b[39m\u001b[38;5;241m2\u001b[39m\n",
      "\u001b[0;31mKeyboardInterrupt\u001b[0m: "
     ]
    }
   ],
   "source": [
    "a=1\n",
    "a_div=a/2\n",
    "i=0\n",
    "while a_div!=0:      #for underflow, python assigns the value '0'\n",
    "    i+=1\n",
    "    a_div=a_div/2\n",
    "print(\"underflow (whithin factor 2):\",1/pow(2,i))\n",
    "\n",
    "b=1\n",
    "b_mul=b*2\n",
    "print(b_mul)\n",
    "j=0\n",
    "while b_mul!='inf':      #for overflow it assigns 'inf'\n",
    "    j+=1\n",
    "    b_mul=b_mul*2\n",
    "print(\"overflow (whithin factor 2):\", pow(2,j))\n",
    "    \n",
    "\n",
    "\n"
   ]
  },
  {
   "cell_type": "markdown",
   "metadata": {},
   "source": [
    "4\\. Write a program to determine the machine precision\n",
    "\n",
    "**Tips**: define a new variable by adding a smaller and smaller value (proceeding similarly to prob. 2) to an original variable and check the point where the two are the same "
   ]
  },
  {
   "cell_type": "code",
   "execution_count": 8,
   "metadata": {},
   "outputs": [
    {
     "name": "stdout",
     "output_type": "stream",
     "text": [
      "5.1\n",
      "16\n"
     ]
    }
   ],
   "source": [
    "c=5.0\n",
    "d=c+1.0*10**(-1)\n",
    "print(d)\n",
    "i=1\n",
    "for i in range(30):             #riprovare con un while, non so perchè non funzionava\n",
    "    d=c+1.0*10**-i\n",
    "    if d==c:\n",
    "        break\n",
    "        \n",
    "print(i)\n",
    "\n",
    "#7+1.0*10**-e\n"
   ]
  },
  {
   "cell_type": "markdown",
   "metadata": {},
   "source": [
    "5\\. Write a function that takes in input three parameters $a$, $b$ and $c$ and prints out the two solutions to the quadratic equation $ax^2+bx+c=0$ using the standard formula:\n",
    "$$\n",
    "x=\\frac{-b\\pm\\sqrt{b^2-4ac}}{2a}\n",
    "$$\n",
    "\n",
    "(a) use the program to compute the solution for $a=0.001$, $b=1000$ and $c=0.001$\n",
    "\n",
    "(b) re-express the standard solution formula by multiplying top and bottom by $-b\\mp\\sqrt{b^2-4ac}$ and again find the solution for $a=0.001$, $b=1000$ and $c=0.001$. How does it compare with what previously obtained? Why?\n",
    "\n",
    "(c) write a function that compute the roots of a quadratic equation accurately in all cases"
   ]
  },
  {
   "cell_type": "code",
   "execution_count": 1,
   "metadata": {},
   "outputs": [
    {
     "name": "stdout",
     "output_type": "stream",
     "text": [
      "x1: -999999.999999 , x2: -9.999894245993346e-07\n",
      "x1: -1000010.5755125057 , x2: -1.000000000001e-06\n"
     ]
    }
   ],
   "source": [
    "#a\n",
    "def quadratic_formula(a,b,c):\n",
    "    x1=(-b-pow((pow(b,2) -4*a*c),0.5))/(2*a)\n",
    "    x2=(-b+pow((pow(b,2) -4*a*c),0.5))/(2*a)\n",
    "    print(\"x1:\",x1,\", x2:\", x2)\n",
    "    return\n",
    "\n",
    "\n",
    "#b\n",
    "def quadratic_b(a,b,c):\n",
    "    x1 = (2*c)/(-b+ pow(pow(b,2)-4*a*c,0.5))\n",
    "    x2 = (2*c)/(-b- pow(pow(b,2)-4*a*c,0.5))\n",
    "    print(\"x1:\",x1,\", x2:\", x2)\n",
    "    return\n",
    "\n",
    "\n",
    "\n",
    "quadratic_formula(0.001,1000,0.001)\n",
    "quadratic_b(0.001,1000,0.001)\n"
   ]
  },
  {
   "cell_type": "code",
   "execution_count": 4,
   "metadata": {},
   "outputs": [
    {
     "name": "stdout",
     "output_type": "stream",
     "text": [
      "-1.999978849198669e-09\n",
      "-1999.999999998\n"
     ]
    }
   ],
   "source": [
    "print(-1000+(pow(1000000-4*0.001*0.001,0.5)))\n",
    "print(-1000-(pow(1000000-4*0.001*0.001,0.5)))"
   ]
  },
  {
   "cell_type": "markdown",
   "metadata": {},
   "source": [
    "6\\. Write a program that implements the function $f(x)=x(x−1)$\n",
    "\n",
    "(a) Calculate the derivative of the function at the point $x = 1$ using the derivative definition:\n",
    "\n",
    "$$\n",
    "\\frac{{\\rm d}f}{{\\rm d}x} = \\lim_{\\delta\\to0} \\frac{f(x+\\delta)-f(x)}{\\delta}\n",
    "$$\n",
    "\n",
    "with $\\delta = 10^{−2}$. Calculate the true value of the same derivative analytically and compare with the answer your program gives. The two will not agree perfectly. Why not?\n",
    "\n",
    "(b) Repeat the calculation for $\\delta = 10^{−4}, 10^{−6}, 10^{−8}, 10^{−10}, 10^{−12}$ and $10^{−14}$. How does the accuracy scales with $\\delta$?"
   ]
  },
  {
   "cell_type": "code",
   "execution_count": null,
   "metadata": {},
   "outputs": [],
   "source": []
  },
  {
   "cell_type": "markdown",
   "metadata": {},
   "source": [
    "7\\. Consider the integral of the semicircle of radius 1:\n",
    "$$\n",
    "I=\\int_{-1}^{1} \\sqrt(1-x^2) {\\rm d}x\n",
    "$$\n",
    "which it's known to be $I=\\frac{\\pi}{2}=1.57079632679...$.\n",
    "Alternatively we can use the Riemann definition of the integral:\n",
    "$$\n",
    "I=\\lim_{N\\to\\infty} \\sum_{k=1}^{N} h y_k \n",
    "$$\n",
    "\n",
    "with $h=2/N$ the width of each of the $N$ slices the domain is divided into and where\n",
    "$y_k$ is the value of the function at the $k-$th slice.\n",
    "\n",
    "(a) Write a programe to compute the integral with $N=100$. How does the result compares to the true value?\n",
    "\n",
    "(b) How much can $N$ be increased if the computation needs to be run in less than a second? What is the gain in running it for 1 minute? \n"
   ]
  },
  {
   "cell_type": "code",
   "execution_count": null,
   "metadata": {},
   "outputs": [],
   "source": []
  }
 ],
 "metadata": {
  "kernelspec": {
   "display_name": "Python 3 (ipykernel)",
   "language": "python",
   "name": "python3"
  },
  "language_info": {
   "codemirror_mode": {
    "name": "ipython",
    "version": 3
   },
   "file_extension": ".py",
   "mimetype": "text/x-python",
   "name": "python",
   "nbconvert_exporter": "python",
   "pygments_lexer": "ipython3",
   "version": "3.9.12"
  }
 },
 "nbformat": 4,
 "nbformat_minor": 2
}
